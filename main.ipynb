{
 "cells": [
  {
   "cell_type": "code",
   "execution_count": 1,
   "metadata": {},
   "outputs": [],
   "source": [
    "import torch\n",
    "from torch.utils.data import Dataset, DataLoader, random_split\n",
    "import torch.nn as nn \n",
    "import pickle\n",
    "import re\n",
    "import model.base\n",
    "from model.base import Transformer\n",
    "import utils \n",
    "from utils import MyDataset\n",
    "import rdkit\n",
    "from rdkit.Chem import rdDistGeom\n",
    "import numpy as np\n",
    "from torch.nn.utils import clip_grad_norm_\n",
    "\n",
    "device = torch.device(\"cuda\" if torch.cuda.is_available() else \"cpu\")"
   ]
  },
  {
   "cell_type": "code",
   "execution_count": 2,
   "metadata": {},
   "outputs": [],
   "source": [
    "def subsequent_mask( size):\n",
    "    attn_shape = (1, size, size)\n",
    "    subsequent_mask = torch.triu(torch.ones(attn_shape), diagonal=1).type(\n",
    "        torch.uint8\n",
    "    )\n",
    "\n",
    "    return subsequent_mask == 0\n",
    "\n",
    "\n",
    "def get_mask(target, pad_value = -1) :\n",
    "    mask = (target != torch.tensor(pad_value)).unsqueeze(-2)\n",
    "    return mask & subsequent_mask(target.size(-1)).type_as(mask.data)"
   ]
  },
  {
   "cell_type": "code",
   "execution_count": 3,
   "metadata": {},
   "outputs": [],
   "source": [
    "rdkit.rdBase.DisableLog('rdApp.*') # Disable rdkit warnings"
   ]
  },
  {
   "cell_type": "code",
   "execution_count": 4,
   "metadata": {},
   "outputs": [
    {
     "name": "stdout",
     "output_type": "stream",
     "text": [
      "Error in embedding molecule:  Clc1ccc(C2CC3NCC32)cn1\n",
      "Error in embedding molecule:  CC(=O)NC(=N)NCCC(=O)O\n",
      "Error in embedding molecule:  Clc1ccc(C2CC3CNC32)cn1\n",
      "Error in embedding molecule:  c1cc2ccc1CCc1ccc(cc1)CC2\n"
     ]
    }
   ],
   "source": [
    "dataset = MyDataset('data/chembl24_canon_train.pickle', 25)\n",
    "train_set, val_set = random_split(dataset, [0.9, 0.1])\n",
    "vocab = dataset.vocab"
   ]
  },
  {
   "cell_type": "code",
   "execution_count": 8,
   "metadata": {},
   "outputs": [],
   "source": [
    "train_loader = DataLoader(train_set, batch_size=128)\n",
    "val_loader = DataLoader(val_set, batch_size=128)"
   ]
  },
  {
   "cell_type": "code",
   "execution_count": 9,
   "metadata": {},
   "outputs": [],
   "source": [
    "model = Transformer(256, 512, 4, 4, 0.5, vocab).to(device)\n",
    "loss_fn = nn.L1Loss()\n",
    "optim = torch.optim.Adam(model.parameters(), lr = 0.0003)"
   ]
  },
  {
   "cell_type": "code",
   "execution_count": 10,
   "metadata": {},
   "outputs": [],
   "source": [
    "for i in range(20) : \n",
    "    train_loss, val_loss = 0, 0\n",
    "    model.train()\n",
    "    for src, x, y, z, tgt in train_loader : \n",
    "        src, x, y, z, tgt = src.to(device), x.to(device), y.to(device), z.to(device), tgt.to(device)\n",
    "        src_mask = (src != vocab['<PAD>']).unsqueeze(-2) \n",
    "        x_mask = get_mask(x.squeeze(-1)[:, :-1])\n",
    "        y_mask = get_mask(y.squeeze(-1)[:, :-1])\n",
    "        z_mask = get_mask(z.squeeze(-1)[:, :-1])\n",
    "\n",
    "        \n",
    "        out = model(src, x[:, :-1], y[:, :-1], z[:, :-1], src_mask, x_mask, y_mask, z_mask)\n",
    "        loss = loss_fn(out, tgt[:, 1:, :])\n",
    "        train_loss += loss.item() \n",
    "        loss.backward(), optim.step(), optim.zero_grad(), clip_grad_norm_(model.parameters(), 5)\n",
    "\n",
    "    model.eval()\n",
    "    for src, x, y, z, tgt in train_loader : \n",
    "        src, x, y, z, tgt = src.to(device), x.to(device), y.to(device), z.to(device), tgt.to(device)\n",
    "        src_mask = (src != vocab['<PAD>']).unsqueeze(-2) \n",
    "        x_mask = get_mask(x.squeeze(-1)[:, :-1])\n",
    "        y_mask = get_mask(y.squeeze(-1)[:, :-1])\n",
    "        z_mask = get_mask(z.squeeze(-1)[:, :-1])\n",
    "\n",
    "        \n",
    "        out = model(src, x[:, :-1], y[:, :-1], z[:, :-1], src_mask, x_mask, y_mask, z_mask)\n",
    "        loss = loss_fn(out, tgt[:, 1:, :])\n",
    "        val_loss += loss.item() \n",
    "    print(f'Epoch {i+1} - Train Loss: {train_loss / len(train_loader):.3f} - Val Loss: {val_loss / len(val_loader):.3f}')"
   ]
  },
  {
   "cell_type": "code",
   "execution_count": 141,
   "metadata": {},
   "outputs": [],
   "source": [
    "a = model.ydecoder.layers[0].src_attn.attn[0] \n",
    "a = a.cpu().data.numpy()\n",
    "b = model.encoder.layers[0].self_attn.attn[3]\n",
    "b = b.cpu().data.numpy()"
   ]
  },
  {
   "cell_type": "code",
   "execution_count": 142,
   "metadata": {},
   "outputs": [],
   "source": [
    "import matplotlib.pyplot as plt "
   ]
  },
  {
   "cell_type": "code",
   "execution_count": 143,
   "metadata": {},
   "outputs": [
    {
     "data": {
      "image/png": "[encoded data removed]",
      "text/plain": [
       "<Figure size 432x288 with 1 Axes>"
      ]
     },
     "metadata": {
      "needs_background": "light"
     },
     "output_type": "display_data"
    },
    {
     "data": {
      "image/png": "[encoded data removed]",
      "text/plain": [
       "<Figure size 432x288 with 1 Axes>"
      ]
     },
     "metadata": {
      "needs_background": "light"
     },
     "output_type": "display_data"
    },
    {
     "data": {
      "image/png": "[encoded data removed]",
      "text/plain": [
       "<Figure size 432x288 with 1 Axes>"
      ]
     },
     "metadata": {
      "needs_background": "light"
     },
     "output_type": "display_data"
    },
    {
     "data": {
      "image/png": "[encoded data removed]",
      "text/plain": [
       "<Figure size 432x288 with 1 Axes>"
      ]
     },
     "metadata": {
      "needs_background": "light"
     },
     "output_type": "display_data"
    }
   ],
   "source": [
    "for head in b : \n",
    "    plt.imshow(head) \n",
    "    plt.show()"
   ]
  },
  {
   "cell_type": "code",
   "execution_count": 7,
   "metadata": {},
   "outputs": [
    {
     "data": {
      "text/plain": [
       "[1, 2, 3, 4, 4, 5, 6, 7, 8, 8]"
      ]
     },
     "execution_count": 7,
     "metadata": {},
     "output_type": "execute_result"
    }
   ],
   "source": [
    "a = [1,2,3,4, None, 5, 6,7,8, None]\n",
    "# b = [x for i, x in enumerate(a) if x is not None else a[i-1]]\n",
    "b = [x if x is not None else a[i-1] for i, x in enumerate(a)]\n",
    "b"
   ]
  },
  {
   "cell_type": "code",
   "execution_count": null,
   "metadata": {},
   "outputs": [],
   "source": []
  }
 ],
 "metadata": {
  "kernelspec": {
   "display_name": "Python 3 (ipykernel)",
   "language": "python",
   "name": "python3"
  },
  "language_info": {
   "codemirror_mode": {
    "name": "ipython",
    "version": 3
   },
   "file_extension": ".py",
   "mimetype": "text/x-python",
   "name": "python",
   "nbconvert_exporter": "python",
   "pygments_lexer": "ipython3",
   "version": "3.10.4"
  }
 },
 "nbformat": 4,
 "nbformat_minor": 2
}
