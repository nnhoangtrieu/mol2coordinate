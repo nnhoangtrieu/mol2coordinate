{
 "cells": [
  {
   "cell_type": "code",
   "execution_count": 1,
   "metadata": {},
   "outputs": [],
   "source": [
    "import torch\n",
    "from torch.utils.data import Dataset, DataLoader\n",
    "import torch.nn as nn \n",
    "import pickle\n",
    "import re\n",
    "import model.base\n",
    "from model.base import Transformer\n",
    "import utils \n",
    "from utils import MyDataset\n",
    "import rdkit\n",
    "from rdkit.Chem import rdDistGeom\n",
    "import numpy as np\n",
    "\n",
    "device = torch.device(\"cuda\" if torch.cuda.is_available() else \"cpu\")"
   ]
  },
  {
   "cell_type": "code",
   "execution_count": 2,
   "metadata": {},
   "outputs": [],
   "source": [
    "def subsequent_mask( size):\n",
    "    attn_shape = (1, size, size)\n",
    "    subsequent_mask = torch.triu(torch.ones(attn_shape), diagonal=1).type(\n",
    "        torch.uint8\n",
    "    )\n",
    "\n",
    "    return subsequent_mask == 0\n",
    "\n",
    "\n",
    "def get_mask(target, pad_value = -1) :\n",
    "    mask = (target != torch.tensor(pad_value)).unsqueeze(-2)\n",
    "    return mask & subsequent_mask(target.size(-1)).type_as(mask.data)"
   ]
  },
  {
   "cell_type": "code",
   "execution_count": 3,
   "metadata": {},
   "outputs": [
    {
     "name": "stderr",
     "output_type": "stream",
     "text": [
      "[23:53:25] UFFTYPER: Unrecognized atom type: Ba (0)\n"
     ]
    }
   ],
   "source": [
    "dataset = MyDataset('data/ADAGRASIB_SMILES.txt', 30)\n",
    "vocab = dataset.vocab"
   ]
  },
  {
   "cell_type": "code",
   "execution_count": 4,
   "metadata": {},
   "outputs": [],
   "source": [
    "train_loader = DataLoader(dataset, batch_size=64)"
   ]
  },
  {
   "cell_type": "code",
   "execution_count": 5,
   "metadata": {},
   "outputs": [],
   "source": [
    "model = Transformer(256, 512, 8, 2, 0.5, vocab).to(device)\n",
    "loss_fn = nn.L1Loss()\n"
   ]
  },
  {
   "cell_type": "code",
   "execution_count": 7,
   "metadata": {},
   "outputs": [
    {
     "name": "stdout",
     "output_type": "stream",
     "text": [
      "tensor(1.9658, device='cuda:0', grad_fn=<MeanBackward0>)\n",
      "tensor(1.9990, device='cuda:0', grad_fn=<MeanBackward0>)\n",
      "tensor(1.9615, device='cuda:0', grad_fn=<MeanBackward0>)\n",
      "tensor(2.0108, device='cuda:0', grad_fn=<MeanBackward0>)\n",
      "tensor(1.9976, device='cuda:0', grad_fn=<MeanBackward0>)\n",
      "tensor(1.7509, device='cuda:0', grad_fn=<MeanBackward0>)\n",
      "tensor(1.8995, device='cuda:0', grad_fn=<MeanBackward0>)\n",
      "tensor(2.4141, device='cuda:0', grad_fn=<MeanBackward0>)\n",
      "tensor(2.1243, device='cuda:0', grad_fn=<MeanBackward0>)\n",
      "tensor(1.9428, device='cuda:0', grad_fn=<MeanBackward0>)\n",
      "tensor(2.1350, device='cuda:0', grad_fn=<MeanBackward0>)\n",
      "tensor(2.2438, device='cuda:0', grad_fn=<MeanBackward0>)\n",
      "tensor(2.3611, device='cuda:0', grad_fn=<MeanBackward0>)\n",
      "tensor(2.1680, device='cuda:0', grad_fn=<MeanBackward0>)\n",
      "tensor(2.1561, device='cuda:0', grad_fn=<MeanBackward0>)\n",
      "tensor(2.1116, device='cuda:0', grad_fn=<MeanBackward0>)\n",
      "tensor(1.7408, device='cuda:0', grad_fn=<MeanBackward0>)\n"
     ]
    }
   ],
   "source": [
    "for src, x, y, z, tgt in train_loader : \n",
    "    src, x, y, z, tgt = src.to(device), x.to(device), y.to(device), z.to(device), tgt.to(device)\n",
    "    src_mask = (src != vocab['<PAD>']).unsqueeze(-2) \n",
    "    x_mask = get_mask(x.squeeze(-1)[:, :-1])\n",
    "    y_mask = get_mask(y.squeeze(-1)[:, :-1])\n",
    "    z_mask = get_mask(z.squeeze(-1)[:, :-1])\n",
    "\n",
    "    \n",
    "    out = model(src, x[:, :-1], y[:, :-1], z[:, :-1], src_mask, x_mask, y_mask, z_mask)\n",
    "    loss = loss_fn(out, tgt[:, 1:, :])\n",
    "    print(loss)"
   ]
  },
  {
   "cell_type": "code",
   "execution_count": null,
   "metadata": {},
   "outputs": [],
   "source": []
  },
  {
   "cell_type": "code",
   "execution_count": null,
   "metadata": {},
   "outputs": [],
   "source": []
  }
 ],
 "metadata": {
  "kernelspec": {
   "display_name": "Python 3 (ipykernel)",
   "language": "python",
   "name": "python3"
  },
  "language_info": {
   "codemirror_mode": {
    "name": "ipython",
    "version": 3
   },
   "file_extension": ".py",
   "mimetype": "text/x-python",
   "name": "python",
   "nbconvert_exporter": "python",
   "pygments_lexer": "ipython3",
   "version": "3.10.4"
  }
 },
 "nbformat": 4,
 "nbformat_minor": 2
}
