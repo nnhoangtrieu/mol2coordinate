{
 "cells": [
  {
   "cell_type": "code",
   "execution_count": 46,
   "metadata": {},
   "outputs": [],
   "source": [
    "import torch\n",
    "from torch.utils.data import Dataset, DataLoader, random_split\n",
    "import torch.nn as nn \n",
    "import pickle\n",
    "import re\n",
    "import model.base\n",
    "from model.base import Transformer\n",
    "import utils \n",
    "from utils import *\n",
    "import rdkit\n",
    "from rdkit.Chem import rdDistGeom\n",
    "import numpy as np\n",
    "from torch.nn.utils import clip_grad_norm_\n",
    "import os \n",
    "import datetime \n",
    "from tqdm import tqdm \n",
    "\n",
    "device = torch.device(\"cuda\" if torch.cuda.is_available() else \"cpu\")\n",
    "rdkit.rdBase.DisableLog('rdApp.*') # Disable rdkit warnings"
   ]
  },
  {
   "cell_type": "code",
   "execution_count": 50,
   "metadata": {},
   "outputs": [
    {
     "name": "stdout",
     "output_type": "stream",
     "text": [
      "Error in embedding molecule and will be removed:  CCCCCCNC(=O)NC1=NC(=O)CN1C\n",
      "Error in embedding molecule and will be removed:  Clc1ccc(C2CC3NCC32)cn1\n",
      "Error in embedding molecule and will be removed:  N#CC12CCC1C1CCCCC12N1CCSCC1\n",
      "Error in embedding molecule and will be removed:  CNC(=O)NC(=N)NCCN=[N+]=[N-]\n",
      "Error in embedding molecule and will be removed:  COC(=O)NC1=NNC(=O)c2ccccc2N1\n",
      "Error in embedding molecule and will be removed:  O=C1C(c2ccccc2)N2CCCCN1C2=O\n",
      "Error in embedding molecule and will be removed:  Clc1ccc(OCC2NC3C=CC32)cn1\n",
      "Error in embedding molecule and will be removed:  Clc1ccc(C2CC3CNC32)cn1\n",
      "Error in embedding molecule and will be removed:  COC(=O)NC1=NCC(c2ccccc2)CN1C\n",
      "Error in embedding molecule and will be removed:  CC(=O)NC(=N)NCCC(=O)O\n",
      "Error in embedding molecule and will be removed:  Cc1cccnc1NC(=O)NC1=NC(=O)CN1C\n",
      "Error in embedding molecule and will be removed:  c1cc2ccc1CCc1ccc(cc1)CC2\n",
      "Number of data: 89959\n",
      "Number of unique tokens: 64\n",
      "Maximum number of tokens: 31\n",
      "Maximum number of coordinates: 30\n"
     ]
    }
   ],
   "source": [
    "dataset = MyDataset('data/chembl24_canon_train.pickle', 30)\n",
    "train_set, val_set = random_split(dataset, [0.9, 0.1])\n",
    "train_loader = DataLoader(train_set, batch_size=64)\n",
    "val_loader = DataLoader(val_set, batch_size=64)\n",
    "vocab, inv_vocab, max_coor_len, max_token_len = dataset.vocab, dataset.inv_vocab, dataset.max_coor_len, dataset.max_token_len\n",
    "\n",
    "print(f'Number of data: {len(dataset)}')\n",
    "print(f'Number of unique tokens: {len(vocab)}')\n",
    "print(f'Maximum number of tokens: {max_token_len}')\n",
    "print(f'Maximum number of coordinates: {max_coor_len}')"
   ]
  },
  {
   "cell_type": "code",
   "execution_count": 51,
   "metadata": {},
   "outputs": [],
   "source": [
    "model = Transformer(256, 512, 8, 1, 0.5, vocab).to(device)\n",
    "loss_fn = nn.L1Loss()\n",
    "optim = torch.optim.Adam(model.parameters(), lr = 0.0003)"
   ]
  },
  {
   "cell_type": "code",
   "execution_count": 52,
   "metadata": {},
   "outputs": [
    {
     "name": "stderr",
     "output_type": "stream",
     "text": [
      "Epoch 1:   0%|                                                                                                                                                                                    | 0/1266 [00:00<?, ?it/s]"
     ]
    },
    {
     "name": "stderr",
     "output_type": "stream",
     "text": [
      "Epoch 1: 100%|█████████████████████████████████████████████████████████████████████████████████████████████████████████████████████████████████████████████████████████████████████████| 1266/1266 [00:38<00:00, 32.86it/s]\n"
     ]
    },
    {
     "name": "stdout",
     "output_type": "stream",
     "text": [
      "Epoch 1 - Train Loss: 0.564 - Val Loss: 0.513\n"
     ]
    },
    {
     "name": "stderr",
     "output_type": "stream",
     "text": [
      "Epoch 2:  34%|█████████████████████████████████████████████████████████▉                                                                                                                | 431/1266 [00:13<00:26, 31.58it/s]\n"
     ]
    },
    {
     "ename": "KeyboardInterrupt",
     "evalue": "",
     "output_type": "error",
     "traceback": [
      "\u001b[0;31m---------------------------------------------------------------------------\u001b[0m",
      "\u001b[0;31mKeyboardInterrupt\u001b[0m                         Traceback (most recent call last)",
      "Cell \u001b[0;32mIn [52], line 9\u001b[0m\n\u001b[1;32m      7\u001b[0m x_mask \u001b[38;5;241m=\u001b[39m get_mask(x\u001b[38;5;241m.\u001b[39msqueeze(\u001b[38;5;241m-\u001b[39m\u001b[38;5;241m1\u001b[39m)[:, :\u001b[38;5;241m-\u001b[39m\u001b[38;5;241m1\u001b[39m])\n\u001b[1;32m      8\u001b[0m y_mask \u001b[38;5;241m=\u001b[39m get_mask(y\u001b[38;5;241m.\u001b[39msqueeze(\u001b[38;5;241m-\u001b[39m\u001b[38;5;241m1\u001b[39m)[:, :\u001b[38;5;241m-\u001b[39m\u001b[38;5;241m1\u001b[39m])\n\u001b[0;32m----> 9\u001b[0m z_mask \u001b[38;5;241m=\u001b[39m \u001b[43mget_mask\u001b[49m\u001b[43m(\u001b[49m\u001b[43mz\u001b[49m\u001b[38;5;241;43m.\u001b[39;49m\u001b[43msqueeze\u001b[49m\u001b[43m(\u001b[49m\u001b[38;5;241;43m-\u001b[39;49m\u001b[38;5;241;43m1\u001b[39;49m\u001b[43m)\u001b[49m\u001b[43m[\u001b[49m\u001b[43m:\u001b[49m\u001b[43m,\u001b[49m\u001b[43m \u001b[49m\u001b[43m:\u001b[49m\u001b[38;5;241;43m-\u001b[39;49m\u001b[38;5;241;43m1\u001b[39;49m\u001b[43m]\u001b[49m\u001b[43m)\u001b[49m\n\u001b[1;32m     12\u001b[0m out \u001b[38;5;241m=\u001b[39m model(src, x[:, :\u001b[38;5;241m-\u001b[39m\u001b[38;5;241m1\u001b[39m], y[:, :\u001b[38;5;241m-\u001b[39m\u001b[38;5;241m1\u001b[39m], z[:, :\u001b[38;5;241m-\u001b[39m\u001b[38;5;241m1\u001b[39m], src_mask, x_mask, y_mask, z_mask)\n\u001b[1;32m     13\u001b[0m loss \u001b[38;5;241m=\u001b[39m loss_fn(out, tgt[:, \u001b[38;5;241m1\u001b[39m:, :])\n",
      "File \u001b[0;32m~/mol2coordinate/utils.py:83\u001b[0m, in \u001b[0;36mget_mask\u001b[0;34m(target, pad_value)\u001b[0m\n\u001b[1;32m     82\u001b[0m \u001b[38;5;28;01mdef\u001b[39;00m \u001b[38;5;21mget_mask\u001b[39m(target, pad_value \u001b[38;5;241m=\u001b[39m \u001b[38;5;241m-\u001b[39m\u001b[38;5;241m1\u001b[39m) :\n\u001b[0;32m---> 83\u001b[0m     mask \u001b[38;5;241m=\u001b[39m (target \u001b[38;5;241m!=\u001b[39m torch\u001b[38;5;241m.\u001b[39mtensor(pad_value))\u001b[38;5;241m.\u001b[39munsqueeze(\u001b[38;5;241m-\u001b[39m\u001b[38;5;241m2\u001b[39m)\n\u001b[1;32m     84\u001b[0m     \u001b[38;5;28;01mreturn\u001b[39;00m mask \u001b[38;5;241m&\u001b[39m subsequent_mask(target\u001b[38;5;241m.\u001b[39msize(\u001b[38;5;241m-\u001b[39m\u001b[38;5;241m1\u001b[39m))\u001b[38;5;241m.\u001b[39mtype_as(mask\u001b[38;5;241m.\u001b[39mdata)\n",
      "File \u001b[0;32m~/mol2coordinate/utils.py:75\u001b[0m, in \u001b[0;36msubsequent_mask\u001b[0;34m(size)\u001b[0m\n\u001b[1;32m     74\u001b[0m \u001b[38;5;28;01mdef\u001b[39;00m \u001b[38;5;21msubsequent_mask\u001b[39m( size):\n\u001b[0;32m---> 75\u001b[0m     attn_shape \u001b[38;5;241m=\u001b[39m (\u001b[38;5;241m1\u001b[39m, size, size)\n\u001b[1;32m     76\u001b[0m     subsequent_mask \u001b[38;5;241m=\u001b[39m torch\u001b[38;5;241m.\u001b[39mtriu(torch\u001b[38;5;241m.\u001b[39mones(attn_shape), diagonal\u001b[38;5;241m=\u001b[39m\u001b[38;5;241m1\u001b[39m)\u001b[38;5;241m.\u001b[39mtype(\n\u001b[1;32m     77\u001b[0m         torch\u001b[38;5;241m.\u001b[39muint8\n\u001b[1;32m     78\u001b[0m     )\n\u001b[1;32m     80\u001b[0m     \u001b[38;5;28;01mreturn\u001b[39;00m subsequent_mask \u001b[38;5;241m==\u001b[39m \u001b[38;5;241m0\u001b[39m\n",
      "\u001b[0;31mKeyboardInterrupt\u001b[0m: "
     ]
    }
   ],
   "source": [
    "for i in range(50) : \n",
    "    train_loss, val_loss = 0, 0\n",
    "    model.train()\n",
    "    for src, x, y, z, tgt in tqdm(train_loader, desc=f'Epoch {i+1}') :\n",
    "        src, x, y, z, tgt = src.to(device), x.to(device), y.to(device), z.to(device), tgt.to(device)\n",
    "        src_mask = (src != vocab['<PAD>']).unsqueeze(-2) \n",
    "        x_mask = get_mask(x.squeeze(-1)[:, :-1])\n",
    "        y_mask = get_mask(y.squeeze(-1)[:, :-1])\n",
    "        z_mask = get_mask(z.squeeze(-1)[:, :-1])\n",
    "\n",
    "        \n",
    "        out = model(src, x[:, :-1], y[:, :-1], z[:, :-1], src_mask, x_mask, y_mask, z_mask)\n",
    "        loss = loss_fn(out, tgt[:, 1:, :])\n",
    "        train_loss += loss.item() \n",
    "        loss.backward(), optim.step(), optim.zero_grad(), clip_grad_norm_(model.parameters(), 5)\n",
    "\n",
    "    model.eval()\n",
    "    for src, x, y, z, tgt in val_loader : \n",
    "        src, x, y, z, tgt = src.to(device), x.to(device), y.to(device), z.to(device), tgt.to(device)\n",
    "        src_mask = (src != vocab['<PAD>']).unsqueeze(-2) \n",
    "        x_mask = get_mask(x.squeeze(-1)[:, :-1])\n",
    "        y_mask = get_mask(y.squeeze(-1)[:, :-1])\n",
    "        z_mask = get_mask(z.squeeze(-1)[:, :-1])\n",
    "\n",
    "        \n",
    "        out = model(src, x[:, :-1], y[:, :-1], z[:, :-1], src_mask, x_mask, y_mask, z_mask)\n",
    "        loss = loss_fn(out, tgt[:, 1:, :])\n",
    "        val_loss += loss.item() \n",
    "    print(f'Epoch {i+1} - Train Loss: {train_loss / len(train_loader):.3f} - Val Loss: {val_loss / len(val_loader):.3f}')"
   ]
  },
  {
   "cell_type": "code",
   "execution_count": null,
   "metadata": {},
   "outputs": [],
   "source": []
  }
 ],
 "metadata": {
  "kernelspec": {
   "display_name": "Python 3 (ipykernel)",
   "language": "python",
   "name": "python3"
  },
  "language_info": {
   "codemirror_mode": {
    "name": "ipython",
    "version": 3
   },
   "file_extension": ".py",
   "mimetype": "text/x-python",
   "name": "python",
   "nbconvert_exporter": "python",
   "pygments_lexer": "ipython3",
   "version": "3.10.4"
  }
 },
 "nbformat": 4,
 "nbformat_minor": 2
}
