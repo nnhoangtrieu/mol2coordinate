{
 "cells": [
  {
   "cell_type": "code",
   "execution_count": 22,
   "metadata": {},
   "outputs": [],
   "source": [
    "import torch\n",
    "from torch.utils.data import Dataset, DataLoader\n",
    "import pickle\n",
    "import re"
   ]
  },
  {
   "cell_type": "code",
   "execution_count": 21,
   "metadata": {},
   "outputs": [],
   "source": [
    "with open('data/ADAGRASIB_SMILES.txt', 'r') as file : \n",
    "    smi_list = file.readlines() \n",
    "    smi_list = [smi[:-1] for smi in smi_list if smi.endswith('\\n')]"
   ]
  },
  {
   "cell_type": "code",
   "execution_count": 33,
   "metadata": {},
   "outputs": [],
   "source": [
    "class MyDataset(Dataset):\n",
    "    def __init__(self, path, max_len):\n",
    "        self.path = path\n",
    "        self.max_len = max_len\n",
    "        self.token_list = self.process()\n",
    "\n",
    "    def extract(self):\n",
    "        if self.path.lower().endswith('.txt'):\n",
    "            with open(self.path, 'r') as file:\n",
    "                data = [line.strip() for line in file if len(line) < self.max_len]\n",
    "            return data\n",
    "        elif self.path.lower().endswith('.pickle'):\n",
    "            with open(self.path, 'rb') as file:\n",
    "                data = pickle.load(file)\n",
    "                data = [x for x in data if len(x) < self.max_len]\n",
    "            return data\n",
    "        else:\n",
    "            raise ValueError(\"Unsupported file format. Only .txt and .pkl files are supported.\")\n",
    "    \n",
    "    def tokenizer(self, smile):\n",
    "        pattern =  \"(\\[[^\\]]+]|Br?|Cl?|N|O|S|P|F|I|b|c|n|o|s|p|\\(|\\)|\\.|=|#|-|\\+|\\\\\\\\|\\/|_|:|~|@|\\?|>|\\*|\\$|\\%[0-9]{2}|[0-9])\"\n",
    "        regezz = re.compile(pattern)\n",
    "        tokens = [token for token in regezz.findall(smile)]\n",
    "        assert smile == ''.join(tokens), (\"{} could not be joined\".format(smile))\n",
    "        return tokens\n",
    "    \n",
    "    def get_vocab(self, smi_list) :\n",
    "        vocab = {'<START>': 0, '<END>': 1, '<PAD>': 2}\n",
    "        for smi in smi_list :\n",
    "            for char in smi :\n",
    "                if char not in vocab :\n",
    "                    vocab[char] = len(vocab) \n",
    "        return vocab \n",
    "    \n",
    "    def encode(self, smi, vocab) :\n",
    "        return [vocab['<START>']] + [vocab[char] for char in smi] + [vocab['<END>']]\n",
    "    \n",
    "    def pad(self, smi, max_len) :\n",
    "        return smi + [2] * (max_len - len(smi))\n",
    "    \n",
    "    def process(self) : \n",
    "        smi_list = self.extract() \n",
    "        smi_list = [self.tokenizer(s) for s in smi_list]\n",
    "\n",
    "        self.vocab = self.get_vocab(smi_list) \n",
    "        inv_vocab = {v:k for k, v in self.vocab.items()}\n",
    "\n",
    "        token_list = [self.encode(s, self.vocab) for s in smi_list]\n",
    "        max_token_len = len(max(token_list, key=len))\n",
    "        token_list = [self.pad(t, max_token_len) for t in token_list]\n",
    "\n",
    "        return token_list\n",
    "\n",
    "    def __len__(self) : \n",
    "        return len(self.token_list) \n",
    "    \n",
    "    def __getitem__(self, idx) : \n",
    "        tensor = torch.tensor(self.token_list[idx], dtype=torch.long)\n",
    "        return tensor\n"
   ]
  },
  {
   "cell_type": "code",
   "execution_count": 38,
   "metadata": {},
   "outputs": [],
   "source": [
    "dataset = MyDataset('data/chembl24_canon_train.pickle', 20)"
   ]
  },
  {
   "cell_type": "code",
   "execution_count": null,
   "metadata": {},
   "outputs": [],
   "source": []
  }
 ],
 "metadata": {
  "kernelspec": {
   "display_name": "Python 3 (ipykernel)",
   "language": "python",
   "name": "python3"
  },
  "language_info": {
   "codemirror_mode": {
    "name": "ipython",
    "version": 3
   },
   "file_extension": ".py",
   "mimetype": "text/x-python",
   "name": "python",
   "nbconvert_exporter": "python",
   "pygments_lexer": "ipython3",
   "version": "3.10.4"
  }
 },
 "nbformat": 4,
 "nbformat_minor": 2
}
